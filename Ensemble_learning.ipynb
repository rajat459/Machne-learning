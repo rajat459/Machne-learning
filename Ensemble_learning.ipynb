{
  "nbformat": 4,
  "nbformat_minor": 0,
  "metadata": {
    "colab": {
      "provenance": [],
      "authorship_tag": "ABX9TyNzAdQfAiJnD4lVaH5Tr2wo",
      "include_colab_link": true
    },
    "kernelspec": {
      "name": "python3",
      "display_name": "Python 3"
    },
    "language_info": {
      "name": "python"
    }
  },
  "cells": [
    {
      "cell_type": "markdown",
      "metadata": {
        "id": "view-in-github",
        "colab_type": "text"
      },
      "source": [
        "<a href=\"https://colab.research.google.com/github/rajat459/Machne-learning/blob/main/Ensemble_learning.ipynb\" target=\"_parent\"><img src=\"https://colab.research.google.com/assets/colab-badge.svg\" alt=\"Open In Colab\"/></a>"
      ]
    },
    {
      "cell_type": "code",
      "execution_count": 5,
      "metadata": {
        "id": "fVqAOcnQoPhK"
      },
      "outputs": [],
      "source": [
        "import numpy as np\n",
        "from sklearn.ensemble import RandomForestClassifier\n",
        "from sklearn.model_selection import train_test_split\n",
        "from sklearn.metrics import accuracy_score\n",
        "from sklearn.datasets import make_classification"
      ]
    },
    {
      "cell_type": "code",
      "source": [
        "#generate a synthetic daatset\n",
        "X, y = make_classification(n_samples=1000, n_features=20, random_state=42)"
      ],
      "metadata": {
        "id": "tm9aiEGqorR-"
      },
      "execution_count": 6,
      "outputs": []
    },
    {
      "cell_type": "code",
      "source": [
        "# split thre data\n",
        "X_train, X_test, y_train, y_test = train_test_split(X, y, test_size=0.2, random_state=42)"
      ],
      "metadata": {
        "id": "a4NYjAd9o_7Q"
      },
      "execution_count": 7,
      "outputs": []
    },
    {
      "cell_type": "code",
      "source": [
        "# initialize a list to store the base learners\n",
        "base_learners = []"
      ],
      "metadata": {
        "id": "6RzKXpc6pD4t"
      },
      "execution_count": 8,
      "outputs": []
    },
    {
      "cell_type": "code",
      "source": [
        "#number of base learner\n",
        "num_base_learners = 10"
      ],
      "metadata": {
        "id": "WQQkcXl-pJmM"
      },
      "execution_count": 9,
      "outputs": []
    },
    {
      "cell_type": "code",
      "source": [
        "#train the base leanner\n",
        "for i in range(num_base_learners):\n",
        "  #create a bootstrap\n",
        "  bootstrap_indices = np.random.choice(len(X_train), size=len(X_train), replace=True)\n",
        "  X_bootstrap = X_train[bootstrap_indices]\n",
        "  y_bootstrap = y_train[bootstrap_indices]\n",
        "\n",
        "  #create and train a base learner (random forest)\n",
        "  base_learner = RandomForestClassifier(n_estimators=100, random_state=42)\n",
        "  base_learner.fit(X_bootstrap, y_bootstrap)\n",
        "\n",
        "  #add the trainer the data\n",
        "  base_learners.append(base_learner)\n",
        "\n"
      ],
      "metadata": {
        "id": "JwKxzwcJpPG8"
      },
      "execution_count": 10,
      "outputs": []
    },
    {
      "cell_type": "code",
      "source": [
        "#make prediction with each base learner\n",
        "base_prediction=[]\n",
        "for base_learner in base_learners:\n",
        "  prediction = base_learner.predict(X_test)\n",
        "  base_prediction.append(prediction)\n"
      ],
      "metadata": {
        "id": "XTYq8Ma7qBFN"
      },
      "execution_count": 11,
      "outputs": []
    },
    {
      "cell_type": "code",
      "source": [
        "#combine the prediction using majority voting\n",
        "ensemble_prediction = np.round(np.mean(base_prediction,axis=0))\n",
        "\n",
        "#calculate the accuracy of essemble prediction\n",
        "accuracy = accuracy_score(y_test, ensemble_prediction)\n",
        "print(\"Ensemble Accuracy:\", accuracy)"
      ],
      "metadata": {
        "colab": {
          "base_uri": "https://localhost:8080/"
        },
        "id": "KjZ6kS_qqLIr",
        "outputId": "68c0b870-fc00-4168-fdbe-e70e330985bb"
      },
      "execution_count": 12,
      "outputs": [
        {
          "output_type": "stream",
          "name": "stdout",
          "text": [
            "Ensemble Accuracy: 0.88\n"
          ]
        }
      ]
    }
  ]
}